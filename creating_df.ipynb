{
 "cells": [
  {
   "cell_type": "markdown",
   "metadata": {},
   "source": [
    "# Creating the DataFrame\n",
    "## Creating a pandas dataframe with only the required features from the sqlite database"
   ]
  },
  {
   "cell_type": "code",
   "execution_count": null,
   "metadata": {},
   "outputs": [],
   "source": [
    "#importing neccessary libraries and openning a sqlite connection\n",
    "import pandas as pd\n",
    "import sqlite3\n",
    "from datetime import datetime\n",
    "\n",
    "con = sqlite3.connect('twitter_followers.db')\n",
    "print ('Opened database succesfully')\n",
    "\n",
    "#creating intial dataframe df\n",
    "df = pd.read_sql('select * from twitter_data1', con)\n",
    "print (df.head())\n",
    "print (df.shape)\n",
    "print (df.columns)"
   ]
  },
  {
   "cell_type": "code",
   "execution_count": null,
   "metadata": {},
   "outputs": [],
   "source": [
    "#accessing the twitter API\n",
    "import tweepy\n",
    "consumer_key = 'tHaeI3Vfg3B5BxDdAEnmb5qHp'\n",
    "consumer_secret = 'bazSR24b793Th2lByeyc7bA319ZTWnx7CvwMVzVzhuCERQbjTn'\n",
    "\n",
    "access_token = '1140113387952586752-JUA8pQaeQp6z6inciK8TjuqsxwwxL1'\n",
    "access_token_secret = 'i4stpoFuZJQNMY8xiM9FNpyT02j70lSyiJhL0yChjG7Jd'\n",
    "\n",
    "auth = tweepy.OAuthHandler (consumer_key, consumer_secret)\n",
    "auth.set_access_token(access_token, access_token_secret)\n",
    "\n",
    "api = tweepy.API(auth) \n",
    "\n",
    "#getting the list of my friends in twitter\n",
    "my_friends = api.friends_ids() \n",
    "print (len(my_friends))"
   ]
  },
  {
   "cell_type": "code",
   "execution_count": null,
   "metadata": {},
   "outputs": [],
   "source": [
    "#creating an empty list to store values: \n",
    "#1 -> if the user i in df is my friend\n",
    "#0 -> if the user i in df is not my friend\n",
    "is_friend = []\n",
    "print(len(is_friend))\n",
    "u_id = df['user_id'] \n",
    "print(len(u_id))\n",
    "\n",
    "for i in u_id:\n",
    "    if i in my_friends:\n",
    "        is_friend.append(1)\n",
    "    else:\n",
    "        is_friend.append(0)\n",
    "    \n",
    "print(is_friend)\n",
    "print(len(is_friend))\n",
    "\n",
    "#adding new column 'is_friend' to dataframe df\n",
    "df['is_friend'] = is_friend"
   ]
  },
  {
   "cell_type": "code",
   "execution_count": null,
   "metadata": {},
   "outputs": [],
   "source": [
    "#adding info about my_followers, similar to my_friends \n",
    "my_followers = api.followers_ids()\n",
    "\n",
    "am_following = []\n",
    "print(len(am_following))\n",
    "print(len(u_id))\n",
    "\n",
    "for j in u_id:\n",
    "    if j in my_followers:\n",
    "        am_following.append(1)\n",
    "    else:\n",
    "        am_following.append(0)\n",
    "print(am_following)\n",
    "print(len(am_following))\n",
    "df['am_following'] = am_following"
   ]
  },
  {
   "cell_type": "code",
   "execution_count": null,
   "metadata": {},
   "outputs": [],
   "source": [
    "#function to return the number of days from last status update made by user\n",
    "def count_days(date):\n",
    "    status_created_at = date.split('-')\n",
    "    #print(status_created_at) \n",
    "    month = status_created_at[0]\n",
    "    day = status_created_at[1]\n",
    "    year = status_created_at[-1]\n",
    "    #print (month)\n",
    "    #print(day)\n",
    "    #print(year)\n",
    "    concated_date = (' '.join([month, day, year]))\n",
    "    datetime_object = datetime.strptime(concated_date, '%m %d %Y')\n",
    "    today = datetime.now()\n",
    "    diff = today - datetime_object\n",
    "    diff_days = diff.days\n",
    "    return diff_days"
   ]
  },
  {
   "cell_type": "code",
   "execution_count": null,
   "metadata": {},
   "outputs": [],
   "source": [
    "#evaluating count_days for every user and adding it as new attribute to df\n",
    "#This feature shows the count of days from the present date when the last status was made\n",
    "last_status_date = df['user_laststatus_date']\n",
    "days_laststatus = []\n",
    "\n",
    "for k in last_status_date:\n",
    "   d = count_days(k) \n",
    "   days_laststatus.append(d)\n",
    "   \n",
    "print(len(days_laststatus))\n",
    "df['days_laststatus'] = days_laststatus"
   ]
  },
  {
   "cell_type": "code",
   "execution_count": null,
   "metadata": {},
   "outputs": [],
   "source": [
    "#creating a new dataframe containing only those members who are my friends\n",
    "friends = df[:][df.is_friend == 1]\n",
    "print(friends.shape)\n",
    "print(friends.columns)\n",
    "print(friends.head())"
   ]
  },
  {
   "cell_type": "code",
   "execution_count": null,
   "metadata": {},
   "outputs": [],
   "source": [
    "#exporting the dataframe created as a csv file\n",
    "export_csv = friends.to_csv (\n",
    "        r'path_of_file.csv', \n",
    "        index = None, \n",
    "        header=True) "
   ]
  }
 ],
 "metadata": {
  "kernelspec": {
   "display_name": "Python 3",
   "language": "python",
   "name": "python3"
  },
  "language_info": {
   "codemirror_mode": {
    "name": "ipython",
    "version": 3
   },
   "file_extension": ".py",
   "mimetype": "text/x-python",
   "name": "python",
   "nbconvert_exporter": "python",
   "pygments_lexer": "ipython3",
   "version": "3.6.5"
  }
 },
 "nbformat": 4,
 "nbformat_minor": 2
}
