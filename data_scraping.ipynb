{
 "cells": [
  {
   "cell_type": "markdown",
   "metadata": {},
   "source": [
    "# Data Scraping\n",
    "## This file contains the code to access the public information of a popular Twitter user to build the required dataset"
   ]
  },
  {
   "cell_type": "code",
   "execution_count": 1,
   "metadata": {},
   "outputs": [],
   "source": [
    "#Importing necessary packages\n",
    "import tweepy\n",
    "import sqlite3"
   ]
  },
  {
   "cell_type": "code",
   "execution_count": null,
   "metadata": {},
   "outputs": [],
   "source": [
    "#creating a tweepy object to access the twitter API\n",
    "consumer_key = 'tHaeI3Vfg3B5BxDdAEnmb5qHp'\n",
    "consumer_secret = 'bazSR24b793Th2lByeyc7bA319ZTWnx7CvwMVzVzhuCERQbjTn'\n",
    "\n",
    "access_token = '1140113387952586752-JUA8pQaeQp6z6inciK8TjuqsxwwxL1'\n",
    "access_token_secret = 'i4stpoFuZJQNMY8xiM9FNpyT02j70lSyiJhL0yChjG7Jd'\n",
    "\n",
    "auth = tweepy.OAuthHandler (consumer_key, consumer_secret)\n",
    "auth.set_access_token(access_token, access_token_secret)\n",
    "\n",
    "api = tweepy.API(auth)"
   ]
  },
  {
   "cell_type": "code",
   "execution_count": null,
   "metadata": {},
   "outputs": [],
   "source": [
    "#accessing the information of a popular twitter user which huge count of followers. Then accessing the information of first\n",
    "#5000 followers of the popular user\n",
    "#Replace '----' with any popular twitter user (no particular username specified due to security reasons)\n",
    "mr_popular = api.get_user(screen_name = '----')\n",
    "#print (type(mr_popular))\n",
    "#print (mr_popular)\n",
    "\n",
    "followers_mr_popular = api.followers_ids('----')\n",
    "#print (type(followers_mr_popular))\n",
    "#print (len(followers_mr_popular))"
   ]
  },
  {
   "cell_type": "code",
   "execution_count": null,
   "metadata": {},
   "outputs": [],
   "source": [
    "#creating a sqlite database to save the information\n",
    "conn = sqlite3.connect('twitter_followers.db')\n",
    "print ('Opened database succesfully')\n",
    "\n",
    "#creating a new table\n",
    "conn.execute ('''create table twitter_data1(\n",
    "        user_id int primary key not null,\n",
    "        user_screenname text not null,\n",
    "        user_name text not null,\n",
    "        user_location text,\n",
    "        user_bio text,\n",
    "        user_createdat date,\n",
    "        user_followers_count int,\n",
    "        user_friends_count int,\n",
    "        user_favourites_count int,\n",
    "        user_laststatus_date date,\n",
    "        user_laststatus_text text,\n",
    "        user_statuses_count int);''')"
   ]
  },
  {
   "cell_type": "code",
   "execution_count": null,
   "metadata": {},
   "outputs": [],
   "source": [
    "#THE MAIN LOOP: In this loop, one by one each of the popular user's follower's information is extracted and saved(inserted)\n",
    "#in the newly created table.\n",
    "#IMPORTANT: accessing more than 1000 users at an instant results in a 'rate-limit-exceeded' error by the API, so the script \n",
    "#is to be run accordingly if more than a 1000 users are to be accessed.\n",
    "\n",
    "for i, follower in enumerate(followers_mr_popular[0:1000]):\n",
    "    try:\n",
    "        follower_id = api.get_user(user_id = follower)\n",
    "        is_protected = follower_id.protected\n",
    "        s_c = follower_id.statuses_count\n",
    "        if not is_protected and s_c:\n",
    "            fuser_id = follower_id.id\n",
    "            fuser_screen_name = follower_id.screen_name\n",
    "            fuser_name = follower_id.name\n",
    "            fuser_location = follower_id.location\n",
    "            fuser_desc = follower_id.description\n",
    "            dfuser_created_at = follower_id.created_at\n",
    "            fuser_followc = follower_id.followers_count\n",
    "            fuser_friendsc = follower_id.friends_count\n",
    "            fuser_favouritesc = follower_id.favourites_count\n",
    "            dfuser_status_date = follower_id.status.created_at\n",
    "            fuser_status_text = follower_id.status.text\n",
    "            fuser_statusesc = follower_id.statuses_count\n",
    "            #fuser_follows_mrpopular = int (follower_id)\n",
    "            \n",
    "            fuser_created_at = dfuser_created_at.strftime('%m-%d-%Y')\n",
    "            fuser_status_date = dfuser_status_date.strftime('%m-%d-%Y')\n",
    "            \n",
    "            conn.execute('''insert or replace into twitter_data1(\n",
    "                    user_id,\n",
    "                    user_screenname,\n",
    "                    user_name,\n",
    "                    user_location,\n",
    "                    user_bio,\n",
    "                    user_createdat,\n",
    "                    user_followers_count,\n",
    "                    user_friends_count,\n",
    "                    user_favourites_count,\n",
    "                    user_laststatus_date,\n",
    "                    user_laststatus_text,\n",
    "                    user_statuses_count\n",
    "                    )values(?,?,?,?,?,?,?,?,?,?,?,?)''',\n",
    "                            (fuser_id,\n",
    "                            fuser_screen_name,\n",
    "                            fuser_name,\n",
    "                            fuser_location,\n",
    "                            fuser_desc,\n",
    "                            fuser_created_at,\n",
    "                            fuser_followc,\n",
    "                            fuser_friendsc,\n",
    "                            fuser_favouritesc,\n",
    "                            fuser_status_date,\n",
    "                            fuser_status_text,\n",
    "                            fuser_statusesc))\n",
    "            conn.commit()\n",
    "    \n",
    "    except tweepy.TweepError as e:\n",
    "        print (e)\n",
    "        continue"
   ]
  },
  {
   "cell_type": "code",
   "execution_count": null,
   "metadata": {},
   "outputs": [],
   "source": [
    "#debugging code to keep track of the no. of users accessed\n",
    "cursor = conn.execute('''select count(*) from twitter_data1;''')\n",
    "for row in cursor:\n",
    "    print ('count = ', row[0])"
   ]
  },
  {
   "cell_type": "code",
   "execution_count": null,
   "metadata": {},
   "outputs": [],
   "source": [
    "#FOLLOWING TWITTER USERS BASED ON MUTUAL INTERESTS: each of the user from the database is compared against certain criterias\n",
    "#and consecutively followed\n",
    "users = []\n",
    "cursor = conn.execute('''select * from twitter_data1;''')\n",
    "for row in cursor:\n",
    "    users.append(row[0])\n",
    "print (len(users))\n",
    "\n",
    "#The following list contains the keywords that is used to target users with mutual interests (as per their bio)\n",
    "interests = ['machine', 'learning', 'computer', 'science', 'programming', 'AI', \n",
    "             'artificial', 'intelligence', 'deep', 'nlp', 'processing', 'data', \n",
    "             'cs', 'statistics', 'statistic', 'maths', 'mathematics', 'scientist',\n",
    "             'programmer', 'computing']\n",
    "\n",
    "#IMPORTANT: Twitter does not permit following more than 400 people in 24 hrs. The code needs to be adjusted accordingly.\n",
    "for k in users[0:300]:\n",
    "    try:\n",
    "        follower1 = api.get_user(id = k)\n",
    "        is_protected1 = follower1.protected\n",
    "        status_count1 = follower1.statuses_count\n",
    "        \n",
    "        if not is_protected1 and status_count1:\n",
    "            follower_bio = follower1.description.lower()\n",
    "            follower_favourites_count = follower1.favourites_count\n",
    "            follower_friends_count = follower1.friends_count\n",
    "            dlast_status = follower1.status.created_at\n",
    "            last_status = dlast_status.strftime('%m-%d-%Y')   \n",
    "            if (last_status > '04-01-2019'):\n",
    "                is_active = 1\n",
    "            else:\n",
    "                is_active = 0\n",
    "                \n",
    "            if any(interest in follower_bio for interest in interests) \\\n",
    "                            and follower_favourites_count > 20 \\\n",
    "                            and follower_friends_count > 100:\n",
    "                                print ('case is working')\n",
    "                                api.create_friendship(id = follower1.id)\n",
    "                                print ('doing friendhsip....')\n",
    "                                save_id(follower1.id)\n",
    "    \n",
    "    except tweepy.TweepError as ec:\n",
    "        print (ec)\n",
    "        continue "
   ]
  },
  {
   "cell_type": "code",
   "execution_count": null,
   "metadata": {},
   "outputs": [],
   "source": [
    "#The same scipt was used against another popular user to bring in diversity in terms of the people followed"
   ]
  }
 ],
 "metadata": {
  "kernelspec": {
   "display_name": "Python 3",
   "language": "python",
   "name": "python3"
  },
  "language_info": {
   "codemirror_mode": {
    "name": "ipython",
    "version": 3
   },
   "file_extension": ".py",
   "mimetype": "text/x-python",
   "name": "python",
   "nbconvert_exporter": "python",
   "pygments_lexer": "ipython3",
   "version": "3.6.5"
  }
 },
 "nbformat": 4,
 "nbformat_minor": 2
}
